{
 "cells": [
  {
   "cell_type": "markdown",
   "id": "781955bd-b4dc-4a32-9001-7f2d9ea13355",
   "metadata": {},
   "source": [
    "# Test Commands"
   ]
  },
  {
   "cell_type": "code",
   "execution_count": 1,
   "id": "bcfd2d64-3e8d-40e8-80a7-796d87671107",
   "metadata": {},
   "outputs": [
    {
     "name": "stderr",
     "output_type": "stream",
     "text": [
      "2021-05-31 18:33:52,016 - OMPython - INFO - OMC Server is up and running at file:///C:/Users/shubo/AppData/Local/Temp/openmodelica.port.d2a00b1c6f3c44f8800e2cd5313fc383 pid=2484\n"
     ]
    },
    {
     "data": {
      "text/plain": [
       "'OpenModelica v1.16.1 (64-bit)'"
      ]
     },
     "execution_count": 1,
     "metadata": {},
     "output_type": "execute_result"
    }
   ],
   "source": [
    "from OMPython import OMCSessionZMQ\n",
    "omc = OMCSessionZMQ()\n",
    "omc.sendExpression(\"getVersion()\")"
   ]
  },
  {
   "cell_type": "code",
   "execution_count": 2,
   "id": "97e36860-ff9f-4d8c-9e4f-0f0eff296f03",
   "metadata": {},
   "outputs": [
    {
     "data": {
      "text/plain": [
       "'C:/Users/shubo/Desktop/LinearDynSys/test'"
      ]
     },
     "execution_count": 2,
     "metadata": {},
     "output_type": "execute_result"
    }
   ],
   "source": [
    "omc.sendExpression(\"cd()\")"
   ]
  },
  {
   "cell_type": "code",
   "execution_count": 3,
   "id": "e3133250-1820-40e8-9f9b-4787f55f3672",
   "metadata": {},
   "outputs": [
    {
     "data": {
      "text/plain": [
       "True"
      ]
     },
     "execution_count": 3,
     "metadata": {},
     "output_type": "execute_result"
    }
   ],
   "source": [
    "omc.sendExpression(\"loadModel(Modelica)\")"
   ]
  },
  {
   "cell_type": "code",
   "execution_count": 4,
   "id": "453f668a-3218-40ee-b462-81fbb94bc079",
   "metadata": {},
   "outputs": [
    {
     "data": {
      "text/plain": [
       "True"
      ]
     },
     "execution_count": 4,
     "metadata": {},
     "output_type": "execute_result"
    }
   ],
   "source": [
    "omc.sendExpression(\"loadFile(cd() + \\\"/../CL4CSM/package.mo\\\")\")"
   ]
  },
  {
   "cell_type": "code",
   "execution_count": 5,
   "id": "d73ee690-7f83-4db2-80f3-f0516e682941",
   "metadata": {},
   "outputs": [
    {
     "data": {
      "text/plain": [
       "{'resultFile': 'C:/Users/shubo/Desktop/LinearDynSys/test/CL4CSM.Hydro_Mech_Library.Examples.MFSYS7.MFSYS7_test_res.mat',\n",
       " 'simulationOptions': \"startTime = 0.0, stopTime = 1.0, numberOfIntervals = 500, tolerance = 1e-006, method = 'dassl', fileNamePrefix = 'CL4CSM.Hydro_Mech_Library.Examples.MFSYS7.MFSYS7_test', options = '', outputFormat = 'mat', variableFilter = '.*', cflags = '', simflags = ''\",\n",
       " 'messages': 'LOG_SUCCESS       | info    | The initialization finished successfully without homotopy method.\\nLOG_SUCCESS       | info    | The simulation finished successfully.\\n',\n",
       " 'timeFrontend': 0.5083983,\n",
       " 'timeBackend': 0.1657459,\n",
       " 'timeSimCode': 0.0409983,\n",
       " 'timeTemplates': 0.0234758,\n",
       " 'timeCompile': 8.7115363,\n",
       " 'timeSimulation': 2.3996202,\n",
       " 'timeTotal': 11.8502824}"
      ]
     },
     "execution_count": 5,
     "metadata": {},
     "output_type": "execute_result"
    }
   ],
   "source": [
    "omc.sendExpression(\"simulate(CL4CSM.Hydro_Mech_Library.Examples.MFSYS7.MFSYS7_test)\")"
   ]
  },
  {
   "cell_type": "code",
   "execution_count": 6,
   "id": "40e03c24-493a-4c12-9861-3523a4805075",
   "metadata": {},
   "outputs": [
    {
     "data": {
      "text/plain": [
       "True"
      ]
     },
     "execution_count": 6,
     "metadata": {},
     "output_type": "execute_result"
    }
   ],
   "source": [
    "omc.sendExpression(\"plot(exportfmu.JLHM.x)\")"
   ]
  },
  {
   "cell_type": "markdown",
   "id": "5ea46e44-125c-4e20-8d54-97286ecc5aa1",
   "metadata": {},
   "source": [
    "# Enhanced Features"
   ]
  },
  {
   "cell_type": "code",
   "execution_count": 7,
   "id": "3905c507-e0d1-4dbc-bc24-4fa3ebd1e90a",
   "metadata": {},
   "outputs": [
    {
     "name": "stderr",
     "output_type": "stream",
     "text": [
      "2021-05-31 18:34:06,853 - OMPython - INFO - OMC Server is up and running at file:///C:/Users/shubo/AppData/Local/Temp/openmodelica.port.1a2aab3e26a24d72b90ca6fa3bc12179 pid=11848\n"
     ]
    }
   ],
   "source": [
    "from OMPython import OMCSessionZMQ\n",
    "from OMPython import ModelicaSystem\n",
    "omc = OMCSessionZMQ()"
   ]
  },
  {
   "cell_type": "code",
   "execution_count": 8,
   "id": "ac60e1bc-213b-4f04-9726-e5dfbb1afd50",
   "metadata": {},
   "outputs": [
    {
     "name": "stderr",
     "output_type": "stream",
     "text": [
      "2021-05-31 18:34:07,382 - OMPython - INFO - OMC Server is up and running at file:///C:/Users/shubo/AppData/Local/Temp/openmodelica.port.bd66a074bb6c4d889e9b49b30e289dbb pid=9844\n"
     ]
    }
   ],
   "source": [
    "mod=ModelicaSystem(omc.sendExpression(\"cd()\")+\"/MFSYS7_test.mo\",\"MFSYS7_test\",[omc.sendExpression(\"cd()\")+\"/../CL4CSM/package.mo\",\"Modelica\"])"
   ]
  },
  {
   "cell_type": "code",
   "execution_count": 9,
   "id": "fa95fa7b-d3fb-4133-9536-37f77618eaf1",
   "metadata": {},
   "outputs": [],
   "source": [
    "mod.buildModel()"
   ]
  },
  {
   "cell_type": "code",
   "execution_count": 10,
   "id": "2d12d25e-dbee-4847-b262-adc1a828e7d1",
   "metadata": {},
   "outputs": [],
   "source": [
    "mod.simulate()"
   ]
  },
  {
   "cell_type": "code",
   "execution_count": 11,
   "id": "8358ad74-2ffc-48b3-849f-38868362a081",
   "metadata": {},
   "outputs": [
    {
     "data": {
      "text/plain": [
       "[0.01187124236244118]"
      ]
     },
     "execution_count": 11,
     "metadata": {},
     "output_type": "execute_result"
    }
   ],
   "source": [
    "mod.getContinuous(\"exportfmu.JLHM.x\")"
   ]
  },
  {
   "cell_type": "code",
   "execution_count": 12,
   "id": "69e3aebd-f37b-4ba6-b6ee-6daac5b84653",
   "metadata": {},
   "outputs": [
    {
     "data": {
      "text/plain": [
       "array([[ 0.00000000e+00,  2.81350161e-08,  2.81350161e-08, ...,\n",
       "         9.98000000e-01,  1.00000000e+00,  1.00000000e+00],\n",
       "       [ 0.00000000e+00, -1.30610541e-14, -1.30610541e-14, ...,\n",
       "         1.18712424e-02,  1.18712424e-02,  1.18712424e-02]])"
      ]
     },
     "execution_count": 12,
     "metadata": {},
     "output_type": "execute_result"
    }
   ],
   "source": [
    "mod.getSolutions([\"time\",\"exportfmu.JLHM.x\"])"
   ]
  },
  {
   "cell_type": "code",
   "execution_count": null,
   "id": "48584f39-7296-4576-9e25-29c06a7474b7",
   "metadata": {},
   "outputs": [],
   "source": []
  }
 ],
 "metadata": {
  "kernelspec": {
   "display_name": "Python 3",
   "language": "python",
   "name": "python3"
  },
  "language_info": {
   "codemirror_mode": {
    "name": "ipython",
    "version": 3
   },
   "file_extension": ".py",
   "mimetype": "text/x-python",
   "name": "python",
   "nbconvert_exporter": "python",
   "pygments_lexer": "ipython3",
   "version": "3.9.1"
  }
 },
 "nbformat": 4,
 "nbformat_minor": 5
}
